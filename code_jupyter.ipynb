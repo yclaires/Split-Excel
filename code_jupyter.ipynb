{
 "cells": [
  {
   "cell_type": "code",
   "execution_count": 4,
   "id": "a16ef116-8ba4-4ec1-bd75-4d1e4a6e22cb",
   "metadata": {},
   "outputs": [
    {
     "name": "stdout",
     "output_type": "stream",
     "text": [
      "Excel file saved: /home/yue/0_Entwicklung/SPLIT_Excel/output_folder/Europa.xlsx\n",
      "Excel file saved: /home/yue/0_Entwicklung/SPLIT_Excel/output_folder/Asien.xlsx\n",
      "Excel file saved: /home/yue/0_Entwicklung/SPLIT_Excel/output_folder/Nord America.xlsx\n"
     ]
    }
   ],
   "source": [
    "import pandas as pd\n",
    "import os\n",
    "\n",
    "# Read the Excel file\n",
    "file_path = '/home/yue/0_Entwicklung/SPLIT_Excel/Excel-Split.xlsx'  # Replace 'input_file.xlsx' with your Excel file path\n",
    "df = pd.read_excel(file_path)\n",
    "\n",
    "# Identify unique values in the column for splitting\n",
    "split_column = 'Kontinent'  # Replace 'Column_Name' with the name of the column you want to split by\n",
    "unique_values = df['Kontinent'].unique()\n",
    "\n",
    "# Create a target directory to save the split Excel files\n",
    "target_directory = '/home/yue/0_Entwicklung/SPLIT_Excel/output_folder'  # Replace 'output_folder' with the desired target directory name\n",
    "os.makedirs(target_directory, exist_ok=True)\n",
    "\n",
    "# Split the data based on unique values in the specified column\n",
    "for value in unique_values:\n",
    "    # Create a subset of the DataFrame based on the current unique value\n",
    "    subset = df[df['Kontinent'] == value]\n",
    "    \n",
    "    # Define the output file path\n",
    "    output_file_path = os.path.join(target_directory, f'{value}.xlsx')\n",
    "    \n",
    "    # Write the subset to a new Excel file\n",
    "    subset.to_excel(output_file_path, index=False)\n",
    "    print(f\"Excel file saved: {output_file_path}\")"
   ]
  },
  {
   "cell_type": "code",
   "execution_count": null,
   "id": "727a7979-59e4-44f7-9642-97819414d339",
   "metadata": {},
   "outputs": [],
   "source": []
  },
  {
   "cell_type": "code",
   "execution_count": null,
   "id": "5ac03a1f-f3fe-4d4c-891a-6c5abcc7f657",
   "metadata": {},
   "outputs": [],
   "source": []
  }
 ],
 "metadata": {
  "kernelspec": {
   "display_name": "Python 3 (ipykernel)",
   "language": "python",
   "name": "python3"
  },
  "language_info": {
   "codemirror_mode": {
    "name": "ipython",
    "version": 3
   },
   "file_extension": ".py",
   "mimetype": "text/x-python",
   "name": "python",
   "nbconvert_exporter": "python",
   "pygments_lexer": "ipython3",
   "version": "3.10.12"
  }
 },
 "nbformat": 4,
 "nbformat_minor": 5
}
